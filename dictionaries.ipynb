{
 "cells": [
  {
   "cell_type": "code",
   "execution_count": 1,
   "id": "9c62da4c",
   "metadata": {},
   "outputs": [],
   "source": [
    "# Dictionaries\n"
   ]
  },
  {
   "cell_type": "code",
   "execution_count": 2,
   "id": "a48889b5",
   "metadata": {},
   "outputs": [],
   "source": [
    "d ={'Lion':'brave','elephant':'big and heavy'}"
   ]
  },
  {
   "cell_type": "code",
   "execution_count": 3,
   "id": "5a742f6e",
   "metadata": {},
   "outputs": [
    {
     "data": {
      "text/plain": [
       "{'Lion': 'brave', 'elephant': 'big and heavy'}"
      ]
     },
     "execution_count": 3,
     "metadata": {},
     "output_type": "execute_result"
    }
   ],
   "source": [
    "d"
   ]
  },
  {
   "cell_type": "code",
   "execution_count": 6,
   "id": "0a1e2962",
   "metadata": {},
   "outputs": [
    {
     "data": {
      "text/plain": [
       "'brave'"
      ]
     },
     "execution_count": 6,
     "metadata": {},
     "output_type": "execute_result"
    }
   ],
   "source": [
    "d['Lion']"
   ]
  },
  {
   "cell_type": "code",
   "execution_count": 7,
   "id": "d9a93c7b",
   "metadata": {},
   "outputs": [
    {
     "data": {
      "text/plain": [
       "'big and heavy'"
      ]
     },
     "execution_count": 7,
     "metadata": {},
     "output_type": "execute_result"
    }
   ],
   "source": [
    "d['elephant']"
   ]
  },
  {
   "cell_type": "code",
   "execution_count": 8,
   "id": "b1d4b5f4",
   "metadata": {},
   "outputs": [],
   "source": [
    "e ={'fruits':'strawberry and apple','vegetables':'potato and onion'}"
   ]
  },
  {
   "cell_type": "code",
   "execution_count": 9,
   "id": "1134ff4a",
   "metadata": {},
   "outputs": [
    {
     "data": {
      "text/plain": [
       "{'fruits': 'strawberry and apple', 'vegetables': 'potato and onion'}"
      ]
     },
     "execution_count": 9,
     "metadata": {},
     "output_type": "execute_result"
    }
   ],
   "source": [
    "e"
   ]
  },
  {
   "cell_type": "code",
   "execution_count": 14,
   "id": "cf861156",
   "metadata": {},
   "outputs": [
    {
     "data": {
      "text/plain": [
       "'strawberry and apple'"
      ]
     },
     "execution_count": 14,
     "metadata": {},
     "output_type": "execute_result"
    }
   ],
   "source": [
    "e['fruits']"
   ]
  },
  {
   "cell_type": "code",
   "execution_count": 15,
   "id": "9db10295",
   "metadata": {},
   "outputs": [
    {
     "data": {
      "text/plain": [
       "'potato and onion'"
      ]
     },
     "execution_count": 15,
     "metadata": {},
     "output_type": "execute_result"
    }
   ],
   "source": [
    "e['vegetables']"
   ]
  },
  {
   "cell_type": "code",
   "execution_count": null,
   "id": "47d833b4",
   "metadata": {},
   "outputs": [],
   "source": [
    "`"
   ]
  }
 ],
 "metadata": {
  "kernelspec": {
   "display_name": "Python 3 (ipykernel)",
   "language": "python",
   "name": "python3"
  },
  "language_info": {
   "codemirror_mode": {
    "name": "ipython",
    "version": 3
   },
   "file_extension": ".py",
   "mimetype": "text/x-python",
   "name": "python",
   "nbconvert_exporter": "python",
   "pygments_lexer": "ipython3",
   "version": "3.9.7"
  }
 },
 "nbformat": 4,
 "nbformat_minor": 5
}
